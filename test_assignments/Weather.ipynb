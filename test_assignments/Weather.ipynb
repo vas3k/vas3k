{
 "cells": [
  {
   "cell_type": "code",
   "execution_count": null,
   "id": "87960346-d525-445c-9eb9-cf36fec87230",
   "metadata": {},
   "outputs": [],
   "source": [
    "! pip3 install requests pandas matplotlib --break-system-packages"
   ]
  },
  {
   "cell_type": "code",
   "execution_count": 1,
   "id": "a3309b35-a7f1-4ba6-9286-e6721bee8a52",
   "metadata": {},
   "outputs": [],
   "source": [
    "%matplotlib inline"
   ]
  },
  {
   "cell_type": "code",
   "execution_count": 2,
   "id": "f5fdb714-8828-448a-ab63-3dd5a2a25059",
   "metadata": {},
   "outputs": [],
   "source": [
    "import requests\n",
    "import pandas as pd\n",
    "import logging\n",
    "import sys\n",
    "\n",
    "logging.basicConfig(level=logging.INFO, format='%(asctime)s - %(levelname)s: %(message)s')\n",
    "\n",
    "\n",
    "OPEN_WEATHER_MAP_API_KEY = \"4289e978f573b53a87c2dba25d5dcbf6\"\n",
    "OPEN_WEATHER_MAP_ENDPOINT = \"https://api.openweathermap.org/data/2.5/weather\"\n",
    "\n",
    "INPUT_CITIES = [\"Berlin\", \"Lisbon\", \"Novosibirsk\", \"London\", \"Paris\", \"Barcelona\", \"New York\", \"Prague\", \"Budapest\", \"Belgrade\"]\n"
   ]
  },
  {
   "cell_type": "code",
   "execution_count": 3,
   "id": "6d8aba4f-6c81-44af-9d39-f43a09e6157b",
   "metadata": {},
   "outputs": [],
   "source": [
    "def fetch_city_weather_data(city: str) -> dict | None:\n",
    "    try:\n",
    "        response = requests.get(OPEN_WEATHER_MAP_ENDPOINT, params={\n",
    "            \"q\": city,\n",
    "            \"appid\": OPEN_WEATHER_MAP_API_KEY,\n",
    "            \"units\": \"metric\"\n",
    "        })\n",
    "        response.raise_for_status()  # Raise error for bad responses\n",
    "    except requests.exceptions.RequestException as e:\n",
    "        logging.error(f\"Error fetching data for {city}: {e}\")\n",
    "        return None\n",
    "\n",
    "    try:\n",
    "        data = response.json()\n",
    "    except requests.exceptions.JSONDecodeError:\n",
    "        logging.error(f\"Error decoding API data for {city}: {e}\")\n",
    "        return None\n",
    "        \n",
    "    return {\n",
    "        \"city\": data[\"name\"],\n",
    "        \"temperature\": data[\"main\"][\"temp\"],\n",
    "        \"humidity\": data[\"main\"][\"humidity\"],\n",
    "        \"conditions\": data[\"weather\"][0][\"main\"]\n",
    "    }"
   ]
  },
  {
   "cell_type": "code",
   "execution_count": 4,
   "id": "b7463a5c-44e1-47ba-b774-2b296b02555a",
   "metadata": {},
   "outputs": [
    {
     "data": {
      "text/plain": [
       "{'city': 'Berlin', 'temperature': 9.73, 'humidity': 65, 'conditions': 'Clouds'}"
      ]
     },
     "execution_count": 4,
     "metadata": {},
     "output_type": "execute_result"
    }
   ],
   "source": [
    "fetch_city_weather_data(\"Berlin\") # just testing"
   ]
  },
  {
   "cell_type": "code",
   "execution_count": 5,
   "id": "a4b6d69b-8c11-4f4c-890e-520d89587235",
   "metadata": {},
   "outputs": [],
   "source": [
    "def fetch_multiple_city_weather_data(cities: list) -> list:\n",
    "    return [fetch_city_weather_data(city) for city in cities]"
   ]
  },
  {
   "cell_type": "markdown",
   "id": "0274c629-4d9e-4a6b-82bc-4662bc2863bd",
   "metadata": {},
   "source": [
    "# Now let's do magic!"
   ]
  },
  {
   "cell_type": "code",
   "execution_count": 6,
   "id": "fa8de6db-a3ad-424f-8d81-0b3852b1331b",
   "metadata": {},
   "outputs": [
    {
     "data": {
      "text/html": [
       "<div>\n",
       "<style scoped>\n",
       "    .dataframe tbody tr th:only-of-type {\n",
       "        vertical-align: middle;\n",
       "    }\n",
       "\n",
       "    .dataframe tbody tr th {\n",
       "        vertical-align: top;\n",
       "    }\n",
       "\n",
       "    .dataframe thead th {\n",
       "        text-align: right;\n",
       "    }\n",
       "</style>\n",
       "<table border=\"1\" class=\"dataframe\">\n",
       "  <thead>\n",
       "    <tr style=\"text-align: right;\">\n",
       "      <th></th>\n",
       "      <th>city</th>\n",
       "      <th>temperature</th>\n",
       "      <th>humidity</th>\n",
       "      <th>conditions</th>\n",
       "    </tr>\n",
       "  </thead>\n",
       "  <tbody>\n",
       "    <tr>\n",
       "      <th>0</th>\n",
       "      <td>Berlin</td>\n",
       "      <td>9.73</td>\n",
       "      <td>65</td>\n",
       "      <td>Clouds</td>\n",
       "    </tr>\n",
       "    <tr>\n",
       "      <th>1</th>\n",
       "      <td>Lisbon</td>\n",
       "      <td>14.76</td>\n",
       "      <td>67</td>\n",
       "      <td>Clouds</td>\n",
       "    </tr>\n",
       "    <tr>\n",
       "      <th>2</th>\n",
       "      <td>Novosibirsk</td>\n",
       "      <td>1.61</td>\n",
       "      <td>75</td>\n",
       "      <td>Clouds</td>\n",
       "    </tr>\n",
       "    <tr>\n",
       "      <th>3</th>\n",
       "      <td>London</td>\n",
       "      <td>11.71</td>\n",
       "      <td>63</td>\n",
       "      <td>Clouds</td>\n",
       "    </tr>\n",
       "    <tr>\n",
       "      <th>4</th>\n",
       "      <td>Paris</td>\n",
       "      <td>13.44</td>\n",
       "      <td>54</td>\n",
       "      <td>Clear</td>\n",
       "    </tr>\n",
       "    <tr>\n",
       "      <th>5</th>\n",
       "      <td>Barcelona</td>\n",
       "      <td>13.16</td>\n",
       "      <td>77</td>\n",
       "      <td>Clouds</td>\n",
       "    </tr>\n",
       "    <tr>\n",
       "      <th>6</th>\n",
       "      <td>New York</td>\n",
       "      <td>4.77</td>\n",
       "      <td>51</td>\n",
       "      <td>Clear</td>\n",
       "    </tr>\n",
       "    <tr>\n",
       "      <th>7</th>\n",
       "      <td>Prague</td>\n",
       "      <td>8.85</td>\n",
       "      <td>57</td>\n",
       "      <td>Clouds</td>\n",
       "    </tr>\n",
       "    <tr>\n",
       "      <th>8</th>\n",
       "      <td>Budapest</td>\n",
       "      <td>10.50</td>\n",
       "      <td>57</td>\n",
       "      <td>Clouds</td>\n",
       "    </tr>\n",
       "    <tr>\n",
       "      <th>9</th>\n",
       "      <td>Belgrade</td>\n",
       "      <td>12.53</td>\n",
       "      <td>52</td>\n",
       "      <td>Clouds</td>\n",
       "    </tr>\n",
       "  </tbody>\n",
       "</table>\n",
       "</div>"
      ],
      "text/plain": [
       "          city  temperature  humidity conditions\n",
       "0       Berlin         9.73        65     Clouds\n",
       "1       Lisbon        14.76        67     Clouds\n",
       "2  Novosibirsk         1.61        75     Clouds\n",
       "3       London        11.71        63     Clouds\n",
       "4        Paris        13.44        54      Clear\n",
       "5    Barcelona        13.16        77     Clouds\n",
       "6     New York         4.77        51      Clear\n",
       "7       Prague         8.85        57     Clouds\n",
       "8     Budapest        10.50        57     Clouds\n",
       "9     Belgrade        12.53        52     Clouds"
      ]
     },
     "execution_count": 6,
     "metadata": {},
     "output_type": "execute_result"
    }
   ],
   "source": [
    "# Fetch weather data and convert into a dataframe\n",
    "\n",
    "weather_data = fetch_multiple_city_weather_data(INPUT_CITIES)\n",
    "weather_data_df = pd.DataFrame(weather_data)\n",
    "\n",
    "weather_data_df"
   ]
  },
  {
   "cell_type": "code",
   "execution_count": 7,
   "id": "ca067121-03f4-4639-9cf5-3466bd8a119a",
   "metadata": {},
   "outputs": [
    {
     "name": "stdout",
     "output_type": "stream",
     "text": [
      "Highest temp city: Lisbon — 14.76C\n",
      "Lowest humidity city: New York — 51%\n",
      "Most common weather conditions: Clouds\n"
     ]
    }
   ],
   "source": [
    "# Find and print highest temp, lowest humidity and most common weather condition\n",
    "\n",
    "highest_temp_city = weather_data_df.loc[weather_data_df[\"temperature\"].idxmax()]\n",
    "lowest_humidity_city = weather_data_df.loc[weather_data_df[\"humidity\"].idxmin()]\n",
    "most_common_weather_condition = weather_data_df[\"conditions\"].mode()[0]\n",
    "\n",
    "print(f\"Highest temp city: {highest_temp_city['city']} — {highest_temp_city['temperature']}C\")\n",
    "print(f\"Lowest humidity city: {lowest_humidity_city['city']} — {lowest_humidity_city['humidity']}%\")\n",
    "print(f\"Most common weather conditions: {most_common_weather_condition}\")"
   ]
  },
  {
   "cell_type": "markdown",
   "id": "d0575668-f677-48f9-926d-6f75a12975a9",
   "metadata": {},
   "source": [
    "# Playing with data frames is fun"
   ]
  },
  {
   "cell_type": "code",
   "execution_count": 8,
   "id": "80378f68-5387-4c59-ac1c-34ad8732a666",
   "metadata": {},
   "outputs": [
    {
     "data": {
      "text/html": [
       "<div>\n",
       "<style scoped>\n",
       "    .dataframe tbody tr th:only-of-type {\n",
       "        vertical-align: middle;\n",
       "    }\n",
       "\n",
       "    .dataframe tbody tr th {\n",
       "        vertical-align: top;\n",
       "    }\n",
       "\n",
       "    .dataframe thead th {\n",
       "        text-align: right;\n",
       "    }\n",
       "</style>\n",
       "<table border=\"1\" class=\"dataframe\">\n",
       "  <thead>\n",
       "    <tr style=\"text-align: right;\">\n",
       "      <th></th>\n",
       "      <th>city</th>\n",
       "      <th>temperature</th>\n",
       "      <th>humidity</th>\n",
       "      <th>conditions</th>\n",
       "    </tr>\n",
       "  </thead>\n",
       "  <tbody>\n",
       "    <tr>\n",
       "      <th>2</th>\n",
       "      <td>Novosibirsk</td>\n",
       "      <td>1.61</td>\n",
       "      <td>75</td>\n",
       "      <td>Clouds</td>\n",
       "    </tr>\n",
       "    <tr>\n",
       "      <th>6</th>\n",
       "      <td>New York</td>\n",
       "      <td>4.77</td>\n",
       "      <td>51</td>\n",
       "      <td>Clear</td>\n",
       "    </tr>\n",
       "    <tr>\n",
       "      <th>7</th>\n",
       "      <td>Prague</td>\n",
       "      <td>8.85</td>\n",
       "      <td>57</td>\n",
       "      <td>Clouds</td>\n",
       "    </tr>\n",
       "    <tr>\n",
       "      <th>0</th>\n",
       "      <td>Berlin</td>\n",
       "      <td>9.73</td>\n",
       "      <td>65</td>\n",
       "      <td>Clouds</td>\n",
       "    </tr>\n",
       "    <tr>\n",
       "      <th>8</th>\n",
       "      <td>Budapest</td>\n",
       "      <td>10.50</td>\n",
       "      <td>57</td>\n",
       "      <td>Clouds</td>\n",
       "    </tr>\n",
       "    <tr>\n",
       "      <th>3</th>\n",
       "      <td>London</td>\n",
       "      <td>11.71</td>\n",
       "      <td>63</td>\n",
       "      <td>Clouds</td>\n",
       "    </tr>\n",
       "    <tr>\n",
       "      <th>9</th>\n",
       "      <td>Belgrade</td>\n",
       "      <td>12.53</td>\n",
       "      <td>52</td>\n",
       "      <td>Clouds</td>\n",
       "    </tr>\n",
       "    <tr>\n",
       "      <th>5</th>\n",
       "      <td>Barcelona</td>\n",
       "      <td>13.16</td>\n",
       "      <td>77</td>\n",
       "      <td>Clouds</td>\n",
       "    </tr>\n",
       "    <tr>\n",
       "      <th>4</th>\n",
       "      <td>Paris</td>\n",
       "      <td>13.44</td>\n",
       "      <td>54</td>\n",
       "      <td>Clear</td>\n",
       "    </tr>\n",
       "    <tr>\n",
       "      <th>1</th>\n",
       "      <td>Lisbon</td>\n",
       "      <td>14.76</td>\n",
       "      <td>67</td>\n",
       "      <td>Clouds</td>\n",
       "    </tr>\n",
       "  </tbody>\n",
       "</table>\n",
       "</div>"
      ],
      "text/plain": [
       "          city  temperature  humidity conditions\n",
       "2  Novosibirsk         1.61        75     Clouds\n",
       "6     New York         4.77        51      Clear\n",
       "7       Prague         8.85        57     Clouds\n",
       "0       Berlin         9.73        65     Clouds\n",
       "8     Budapest        10.50        57     Clouds\n",
       "3       London        11.71        63     Clouds\n",
       "9     Belgrade        12.53        52     Clouds\n",
       "5    Barcelona        13.16        77     Clouds\n",
       "4        Paris        13.44        54      Clear\n",
       "1       Lisbon        14.76        67     Clouds"
      ]
     },
     "execution_count": 8,
     "metadata": {},
     "output_type": "execute_result"
    }
   ],
   "source": [
    "weather_data_df.sort_values(by=\"temperature\")"
   ]
  },
  {
   "cell_type": "code",
   "execution_count": 9,
   "id": "4d073499-618f-4016-aecf-82488ab4ab12",
   "metadata": {},
   "outputs": [
    {
     "data": {
      "text/html": [
       "<div>\n",
       "<style scoped>\n",
       "    .dataframe tbody tr th:only-of-type {\n",
       "        vertical-align: middle;\n",
       "    }\n",
       "\n",
       "    .dataframe tbody tr th {\n",
       "        vertical-align: top;\n",
       "    }\n",
       "\n",
       "    .dataframe thead th {\n",
       "        text-align: right;\n",
       "    }\n",
       "</style>\n",
       "<table border=\"1\" class=\"dataframe\">\n",
       "  <thead>\n",
       "    <tr style=\"text-align: right;\">\n",
       "      <th></th>\n",
       "      <th>temperature</th>\n",
       "      <th>humidity</th>\n",
       "    </tr>\n",
       "  </thead>\n",
       "  <tbody>\n",
       "    <tr>\n",
       "      <th>count</th>\n",
       "      <td>10.000000</td>\n",
       "      <td>10.000000</td>\n",
       "    </tr>\n",
       "    <tr>\n",
       "      <th>mean</th>\n",
       "      <td>10.106000</td>\n",
       "      <td>61.800000</td>\n",
       "    </tr>\n",
       "    <tr>\n",
       "      <th>std</th>\n",
       "      <td>4.124181</td>\n",
       "      <td>9.211104</td>\n",
       "    </tr>\n",
       "    <tr>\n",
       "      <th>min</th>\n",
       "      <td>1.610000</td>\n",
       "      <td>51.000000</td>\n",
       "    </tr>\n",
       "    <tr>\n",
       "      <th>25%</th>\n",
       "      <td>9.070000</td>\n",
       "      <td>54.750000</td>\n",
       "    </tr>\n",
       "    <tr>\n",
       "      <th>50%</th>\n",
       "      <td>11.105000</td>\n",
       "      <td>60.000000</td>\n",
       "    </tr>\n",
       "    <tr>\n",
       "      <th>75%</th>\n",
       "      <td>13.002500</td>\n",
       "      <td>66.500000</td>\n",
       "    </tr>\n",
       "    <tr>\n",
       "      <th>max</th>\n",
       "      <td>14.760000</td>\n",
       "      <td>77.000000</td>\n",
       "    </tr>\n",
       "  </tbody>\n",
       "</table>\n",
       "</div>"
      ],
      "text/plain": [
       "       temperature   humidity\n",
       "count    10.000000  10.000000\n",
       "mean     10.106000  61.800000\n",
       "std       4.124181   9.211104\n",
       "min       1.610000  51.000000\n",
       "25%       9.070000  54.750000\n",
       "50%      11.105000  60.000000\n",
       "75%      13.002500  66.500000\n",
       "max      14.760000  77.000000"
      ]
     },
     "execution_count": 9,
     "metadata": {},
     "output_type": "execute_result"
    }
   ],
   "source": [
    "weather_data_df[[\"temperature\", \"humidity\"]].describe()"
   ]
  },
  {
   "cell_type": "markdown",
   "id": "ed64eac8-3218-4da9-978c-c31275c78896",
   "metadata": {},
   "source": [
    "# Finally, let's plot some charts"
   ]
  },
  {
   "cell_type": "code",
   "execution_count": 10,
   "id": "7e276fdf-5cc5-4599-b859-8007f360b3e4",
   "metadata": {},
   "outputs": [
    {
     "data": {
      "text/plain": [
       "<Axes: >"
      ]
     },
     "execution_count": 10,
     "metadata": {},
     "output_type": "execute_result"
    },
    {
     "data": {
      "image/png": "[encoded data removed]",
      "text/plain": [
       "<Figure size 640x480 with 1 Axes>"
      ]
     },
     "metadata": {},
     "output_type": "display_data"
    }
   ],
   "source": [
    "# Temperature histogram\n",
    "\n",
    "weather_data_df[\"temperature\"].hist(bins=10)"
   ]
  },
  {
   "cell_type": "code",
   "execution_count": 11,
   "id": "d74dd002-f70c-41c4-9321-14295d6bf3e7",
   "metadata": {},
   "outputs": [
    {
     "data": {
      "text/plain": [
       "<Axes: >"
      ]
     },
     "execution_count": 11,
     "metadata": {},
     "output_type": "execute_result"
    },
    {
     "data": {
      "image/png": "[encoded data removed]",
      "text/plain": [
       "<Figure size 640x480 with 1 Axes>"
      ]
     },
     "metadata": {},
     "output_type": "display_data"
    }
   ],
   "source": [
    "# Humidity histogram\n",
    "\n",
    "weather_data_df[\"humidity\"].hist(bins=10)"
   ]
  },
  {
   "cell_type": "code",
   "execution_count": 12,
   "id": "0bd5eb3a-04e2-4f77-9715-65294d72681d",
   "metadata": {},
   "outputs": [
    {
     "data": {
      "text/plain": [
       "<Axes: >"
      ]
     },
     "execution_count": 12,
     "metadata": {},
     "output_type": "execute_result"
    },
    {
     "data": {
      "image/png": "[encoded data removed]",
      "text/plain": [
       "<Figure size 640x480 with 1 Axes>"
      ]
     },
     "metadata": {},
     "output_type": "display_data"
    }
   ],
   "source": [
    "# Weather conditions histogram\n",
    "\n",
    "weather_data_df[\"conditions\"].hist(bins=10)"
   ]
  },
  {
   "cell_type": "code",
   "execution_count": 13,
   "id": "b80a18e1-f850-4beb-9c77-173a6cde20a1",
   "metadata": {},
   "outputs": [
    {
     "data": {
      "text/plain": [
       "<Axes: xlabel='temperature', ylabel='humidity'>"
      ]
     },
     "execution_count": 13,
     "metadata": {},
     "output_type": "execute_result"
    },
    {
     "data": {
      "image/png": "[encoded data removed]",
      "text/plain": [
       "<Figure size 640x480 with 1 Axes>"
      ]
     },
     "metadata": {},
     "output_type": "display_data"
    }
   ],
   "source": [
    "# Some fancier scatter plot\n",
    "\n",
    "weather_data_df.plot.scatter(x=\"temperature\", y=\"humidity\")"
   ]
  },
  {
   "cell_type": "markdown",
   "id": "8b2f92b6-7ad5-4e1a-b0fa-81807f782c89",
   "metadata": {},
   "source": [
    "# Voilà!"
   ]
  },
  {
   "cell_type": "code",
   "execution_count": null,
   "id": "dd4f5b4e-0059-4ca1-a603-3e9faa11e99f",
   "metadata": {},
   "outputs": [],
   "source": []
  },
  {
   "cell_type": "code",
   "execution_count": null,
   "id": "29ae8d8d-b31d-41b8-a852-1b24218a92ed",
   "metadata": {},
   "outputs": [],
   "source": []
  }
 ],
 "metadata": {
  "kernelspec": {
   "display_name": "Python 3 (ipykernel)",
   "language": "python",
   "name": "python3"
  },
  "language_info": {
   "codemirror_mode": {
    "name": "ipython",
    "version": 3
   },
   "file_extension": ".py",
   "mimetype": "text/x-python",
   "name": "python",
   "nbconvert_exporter": "python",
   "pygments_lexer": "ipython3",
   "version": "3.12.2"
  }
 },
 "nbformat": 4,
 "nbformat_minor": 5
}
